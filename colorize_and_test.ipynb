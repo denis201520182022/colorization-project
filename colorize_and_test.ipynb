{
  "nbformat": 4,
  "nbformat_minor": 0,
  "metadata": {
    "colab": {
      "provenance": [],
      "gpuType": "T4",
      "authorship_tag": "ABX9TyN3UzkI4boXgx2Op/2WiCuy",
      "include_colab_link": true
    },
    "kernelspec": {
      "name": "python3",
      "display_name": "Python 3"
    },
    "language_info": {
      "name": "python"
    },
    "accelerator": "GPU"
  },
  "cells": [
    {
      "cell_type": "markdown",
      "metadata": {
        "id": "view-in-github",
        "colab_type": "text"
      },
      "source": [
        "<a href=\"https://colab.research.google.com/github/denis201520182022/colorization-project/blob/new-model/colorize_and_test.ipynb\" target=\"_parent\"><img src=\"https://colab.research.google.com/assets/colab-badge.svg\" alt=\"Open In Colab\"/></a>"
      ]
    },
    {
      "cell_type": "code",
      "execution_count": 1,
      "metadata": {
        "id": "l1dHbCzqMvX0"
      },
      "outputs": [],
      "source": [
        "import torch\n",
        "import torchvision\n",
        "import torchvision.transforms as transforms\n",
        "import numpy as np\n",
        "import matplotlib.pyplot as plt\n",
        "\n",
        "from skimage import color\n",
        "\n"
      ]
    },
    {
      "cell_type": "code",
      "source": [
        "device = torch.device(\"cuda\" if torch.cuda.is_available() else \"cpu\")\n",
        "print(device)"
      ],
      "metadata": {
        "colab": {
          "base_uri": "https://localhost:8080/"
        },
        "id": "4cU6Pzm7QloD",
        "outputId": "65076b97-a4cc-4d50-946d-2f77c716f035"
      },
      "execution_count": 2,
      "outputs": [
        {
          "output_type": "stream",
          "name": "stdout",
          "text": [
            "cuda\n"
          ]
        }
      ]
    },
    {
      "cell_type": "code",
      "source": [
        "from torchvision.datasets import CIFAR10\n",
        "from torch.utils.data import Dataset, DataLoader\n",
        "\n",
        "class CIFAR10_Lab(Dataset):\n",
        "  def __init__(self, train=True):\n",
        "    self.data = CIFAR10(root='./data', train=train, download=True)\n",
        "    self.images = self.data.data\n",
        "\n",
        "  def __len__(self):\n",
        "    return len(self.images)\n",
        "\n",
        "  def __getitem__(self, idx):\n",
        "    img_rgb = self.images[idx]/255.0\n",
        "    img_lab = color.rgb2lab(img_rgb)\n",
        "\n",
        "    L = img_lab[:,:, 0] / 100.0\n",
        "    ab = img_lab[:,:, 1:] / 128.0\n",
        "\n",
        "    L_tenzor = torch.tensor(L, dtype=torch.float32).unsqueeze(0)\n",
        "    ab_tenzor = torch.tensor(ab, dtype=torch.float32).permute(2,0,1)\n",
        "\n",
        "    return L_tenzor, ab_tenzor"
      ],
      "metadata": {
        "id": "dO7F2BmTQlq5"
      },
      "execution_count": 3,
      "outputs": []
    },
    {
      "cell_type": "code",
      "source": [
        "train_dataset = CIFAR10_Lab(train=True)\n",
        "test_dataset = CIFAR10_Lab(train=False)\n",
        "\n",
        "train_loader =DataLoader(train_dataset, batch_size=32, shuffle=True)\n",
        "test_loader = DataLoader(test_dataset, batch_size=32)"
      ],
      "metadata": {
        "colab": {
          "base_uri": "https://localhost:8080/"
        },
        "id": "1MmvYerUQltI",
        "outputId": "f1f777e3-b52a-40bb-da27-a99486f25f45"
      },
      "execution_count": 4,
      "outputs": [
        {
          "output_type": "stream",
          "name": "stderr",
          "text": [
            "100%|██████████| 170M/170M [00:05<00:00, 32.4MB/s]\n"
          ]
        }
      ]
    },
    {
      "cell_type": "code",
      "source": [
        "L, ab = train_dataset[0]\n",
        "\n",
        "print(\"Тип L:\", type(L), \" | Форма:\", L.shape)\n",
        "print(\"Тип ab:\", type(ab), \" | Форма:\", ab.shape)\n",
        "\n",
        "L_np = L.squeeze().numpy() * 100\n",
        "ab_np = ab.numpy() * 128\n",
        "\n",
        "print(\"L_np:\", L_np.shape)\n",
        "print(\"ab_np (до транспонирования):\", ab_np.shape)\n",
        "\n",
        "ab_np = ab_np.transpose(1, 2, 0)\n",
        "print(\"ab_np (после):\", ab_np.shape)\n",
        "\n",
        "lab_img = np.zeros((32, 32, 3), dtype=np.float32)\n",
        "lab_img[:, :, 0] = L_np\n",
        "lab_img[:, :, 1:] = ab_np\n",
        "\n",
        "rgb_img = lab2rgb(lab_img)\n",
        "\n",
        "plt.imshow(rgb_img)\n",
        "plt.axis('off')\n",
        "plt.title(\"Изображение из L+ab\")\n",
        "plt.show()\n"
      ],
      "metadata": {
        "colab": {
          "base_uri": "https://localhost:8080/",
          "height": 516
        },
        "id": "VljCA09kQlvr",
        "outputId": "9afcf2d4-e44f-4036-fb18-7edebac84d08"
      },
      "execution_count": 14,
      "outputs": [
        {
          "output_type": "stream",
          "name": "stdout",
          "text": [
            "Тип L: <class 'torch.Tensor'>  | Форма: torch.Size([1, 32, 32])\n",
            "Тип ab: <class 'torch.Tensor'>  | Форма: torch.Size([2, 32, 32])\n",
            "L_np: (32, 32)\n",
            "ab_np (до транспонирования): (2, 32, 32)\n",
            "ab_np (после): (32, 32, 2)\n"
          ]
        },
        {
          "output_type": "display_data",
          "data": {
            "text/plain": [
              "<Figure size 640x480 with 1 Axes>"
            ],
            "image/png": "[encoded data removed]"
          },
          "metadata": {}
        }
      ]
    },
    {
      "cell_type": "code",
      "source": [
        "import matplotlib.pyplot as plt\n",
        "original_img = train_dataset.data.data[0]\n",
        "fig, axs = plt.subplots(1, 2, figsize=(8, 4))\n",
        "axs[0].imshow(original_img)\n",
        "axs[0].set_title(\"Оригинал (RGB)\")\n",
        "axs[0].axis('off')\n",
        "\n",
        "axs[1].imshow(rgb_img)\n",
        "axs[1].set_title(\"Восстановлено (из L + ab)\")\n",
        "axs[1].axis('off')\n",
        "\n",
        "plt.tight_layout()\n",
        "plt.show()\n"
      ],
      "metadata": {
        "colab": {
          "base_uri": "https://localhost:8080/",
          "height": 353
        },
        "id": "NvSh8wksQlzM",
        "outputId": "0c0206af-9505-4d88-b892-7cfbce2f8463"
      },
      "execution_count": 18,
      "outputs": [
        {
          "output_type": "display_data",
          "data": {
            "text/plain": [
              "<Figure size 800x400 with 2 Axes>"
            ],
            "image/png": "[encoded data removed]"
          },
          "metadata": {}
        }
      ]
    },
    {
      "cell_type": "code",
      "source": [
        "import torch\n",
        "import torch.nn as nn\n",
        "import torch.nn.functional as F\n",
        "\n",
        "class ColorizationCNN(nn.Module):\n",
        "    def __init__(self):\n",
        "        super(ColorizationCNN, self).__init__()\n",
        "\n",
        "        # Encoder: уменьшает размер, но увеличивает глубину (кол-во каналов)\n",
        "        self.encoder = nn.Sequential(\n",
        "            nn.Conv2d(1, 64, kernel_size=3, padding=1),  # (1, 32, 32) -> (64, 32, 32)\n",
        "            nn.ReLU(),\n",
        "            nn.Conv2d(64, 128, kernel_size=3, padding=1),  # (128, 32, 32)\n",
        "            nn.ReLU(),\n",
        "            nn.MaxPool2d(2, 2),  # (128, 16, 16)\n",
        "            nn.Conv2d(128, 256, kernel_size=3, padding=1),\n",
        "            nn.ReLU(),\n",
        "            nn.MaxPool2d(2, 2)   # (256, 8, 8)\n",
        "        )\n",
        "\n",
        "        # Decoder: восстанавливает размер до исходного (32x32), но с 2 каналами\n",
        "        self.decoder = nn.Sequential(\n",
        "            nn.ConvTranspose2d(256, 128, kernel_size=2, stride=2),  # (128, 16, 16)\n",
        "            nn.ReLU(),\n",
        "            nn.ConvTranspose2d(128, 64, kernel_size=2, stride=2),   # (64, 32, 32)\n",
        "            nn.ReLU(),\n",
        "            nn.Conv2d(64, 2, kernel_size=3, padding=1),             # (2, 32, 32)\n",
        "            nn.Tanh()  # чтобы выход был от -1 до 1, как и ab каналы\n",
        "        )\n",
        "\n",
        "    def forward(self, x):\n",
        "        x = self.encoder(x)\n",
        "        x = self.decoder(x)\n",
        "        return x\n"
      ],
      "metadata": {
        "id": "3tWTqD14bg_y"
      },
      "execution_count": 17,
      "outputs": []
    },
    {
      "cell_type": "code",
      "source": [
        "model = ColorizationCNN().to(device)\n",
        "\n",
        "model.load_state_dict(torch.load('colorization_weights.pth'))\n",
        "optimizer = torch.optim.Adam(model.parameters(), lr=1e-3)\n",
        "optimizer.load_state_dict(torch.load('optimizer_weights.pth'))\n",
        "criterion = nn.MSELoss()"
      ],
      "metadata": {
        "id": "ryY6qebbbhCd"
      },
      "execution_count": 41,
      "outputs": []
    },
    {
      "cell_type": "code",
      "source": [
        "num_epochs = 20\n",
        "for epoch in range(num_epochs):\n",
        "  model.train()\n",
        "  running_loss = 0.0\n",
        "\n",
        "  for batch in train_loader:\n",
        "    L, ab = batch\n",
        "    L, ab = L.to(device), ab.to(device)\n",
        "\n",
        "    output = model(L)\n",
        "    loss = criterion(output, ab)\n",
        "\n",
        "    optimizer.zero_grad()\n",
        "    loss.backward()\n",
        "    optimizer.step()\n",
        "\n",
        "    running_loss += loss.item()\n",
        "\n",
        "  avg_loss = running_loss / len(train_loader)\n",
        "  print(f\"Эпоха {epoch+1}/{num_epochs}, Потеря: {avg_loss:.4f}\")\n"
      ],
      "metadata": {
        "colab": {
          "base_uri": "https://localhost:8080/"
        },
        "id": "WpVnTcNKbhFK",
        "outputId": "c6198488-ebd0-4249-cb3f-43956e188d40"
      },
      "execution_count": 42,
      "outputs": [
        {
          "output_type": "stream",
          "name": "stdout",
          "text": [
            "Эпоха 1/20, Потеря: 0.0093\n",
            "Эпоха 2/20, Потеря: 0.0092\n",
            "Эпоха 3/20, Потеря: 0.0092\n",
            "Эпоха 4/20, Потеря: 0.0092\n",
            "Эпоха 5/20, Потеря: 0.0092\n",
            "Эпоха 6/20, Потеря: 0.0092\n",
            "Эпоха 7/20, Потеря: 0.0091\n",
            "Эпоха 8/20, Потеря: 0.0091\n",
            "Эпоха 9/20, Потеря: 0.0091\n",
            "Эпоха 10/20, Потеря: 0.0091\n",
            "Эпоха 11/20, Потеря: 0.0091\n",
            "Эпоха 12/20, Потеря: 0.0091\n",
            "Эпоха 13/20, Потеря: 0.0091\n",
            "Эпоха 14/20, Потеря: 0.0090\n",
            "Эпоха 15/20, Потеря: 0.0090\n",
            "Эпоха 16/20, Потеря: 0.0090\n",
            "Эпоха 17/20, Потеря: 0.0090\n",
            "Эпоха 18/20, Потеря: 0.0090\n",
            "Эпоха 19/20, Потеря: 0.0090\n",
            "Эпоха 20/20, Потеря: 0.0090\n"
          ]
        }
      ]
    },
    {
      "cell_type": "code",
      "source": [],
      "metadata": {
        "id": "yN6gb_nRbhH7"
      },
      "execution_count": 29,
      "outputs": []
    },
    {
      "cell_type": "code",
      "source": [
        "# Тестируем модель на тестовом наборе данных\n",
        "total_loss = 0\n",
        "total_psnr = 0\n",
        "total_samples = 0\n",
        "\n",
        "with torch.no_grad():  # Отключаем градиенты для ускорения\n",
        "    for L, ab in test_loader:\n",
        "        L, ab = L.to(device), ab.to(device)\n",
        "\n",
        "        # Прогоняем через модель\n",
        "        ab_pred = model(L)\n",
        "\n",
        "        # Считаем ошибку\n",
        "        loss = criterion(ab_pred, ab)\n",
        "        total_loss += loss.item() * L.size(0)  # Умножаем на размер батча\n",
        "        total_samples += L.size(0)\n",
        "\n",
        "        # Рассчитываем PSNR\n",
        "        psnr_value = psnr(ab_pred, ab)\n",
        "        total_psnr += psnr_value.item()\n",
        "\n",
        "# Средние значения метрик\n",
        "avg_test_loss = total_loss / total_samples\n",
        "avg_psnr = total_psnr / total_samples\n",
        "\n",
        "# Печатаем результаты\n",
        "print(f\"Средняя ошибка на тестовом наборе (MSE): {avg_test_loss:.4f}\")\n",
        "print(f\"Средний PSNR: {avg_psnr:.4f} dB\")\n"
      ],
      "metadata": {
        "colab": {
          "base_uri": "https://localhost:8080/"
        },
        "id": "Y8ymxwlRhEvR",
        "outputId": "b3afd03a-8491-4eb5-cf30-cf25baeb4cd8"
      },
      "execution_count": 43,
      "outputs": [
        {
          "output_type": "stream",
          "name": "stdout",
          "text": [
            "Средняя ошибка на тестовом наборе (MSE): 0.0092\n",
            "Средний PSNR: 0.6402 dB\n"
          ]
        }
      ]
    },
    {
      "cell_type": "code",
      "source": [],
      "metadata": {
        "id": "KQKMujEVhEx_"
      },
      "execution_count": null,
      "outputs": []
    },
    {
      "cell_type": "markdown",
      "source": [
        "10 эпох:\n",
        "Средняя ошибка на тестовом наборе (MSE): 0.0093\n",
        "Средний PSNR: 0.6389 dB\n",
        "30 эпох:\n",
        "Средняя ошибка на тестовом наборе (MSE): 0.0092\n",
        "Средний PSNR: 0.6402 dB\n"
      ],
      "metadata": {
        "id": "H_PGF1YIohvm"
      }
    },
    {
      "cell_type": "code",
      "source": [],
      "metadata": {
        "id": "tGoeVUaPhE1b"
      },
      "execution_count": null,
      "outputs": []
    },
    {
      "cell_type": "code",
      "source": [
        "model.eval()\n",
        "\n",
        "L, ab = test_dataset[0]\n",
        "\n",
        "L_input = L.unsqueeze(0).to(device)\n",
        "\n",
        "with torch.no_grad():\n",
        "  ab_pred = model(L_input)\n",
        "\n",
        "ab_pred = ab_pred.squeeze(0).cpu()\n",
        "L_np = L.squeeze().numpy()*100\n",
        "ab_np = ab_pred.numpy().transpose(1,2,0)*128\n",
        "\n",
        "lab_pred = np.concatenate([L_np[..., np.newaxis], ab_np], axis=2)  # (32, 32, 3)\n",
        "rgb_pred = color.lab2rgb(lab_pred)\n",
        "\n",
        "original_rgb = test_dataset.data.data[0]  # uint8 RGB\n",
        "original_rgb = original_rgb  # нормализуем [0, 1]\n",
        "\n",
        "# Визуализация\n",
        "fig, axs = plt.subplots(1, 2, figsize=(8, 4))\n",
        "\n",
        "axs[0].imshow(original_rgb)\n",
        "axs[0].set_title(\"Оригинал\")\n",
        "axs[0].axis(\"off\")\n",
        "\n",
        "axs[1].imshow(rgb_pred)\n",
        "axs[1].set_title(\"Предсказание\")\n",
        "axs[1].axis(\"off\")"
      ],
      "metadata": {
        "colab": {
          "base_uri": "https://localhost:8080/",
          "height": 358
        },
        "id": "G3asuTfhbhK0",
        "outputId": "cd3a43b5-4c02-4d25-d75b-4c2edb123b81"
      },
      "execution_count": 44,
      "outputs": [
        {
          "output_type": "execute_result",
          "data": {
            "text/plain": [
              "(np.float64(-0.5), np.float64(31.5), np.float64(31.5), np.float64(-0.5))"
            ]
          },
          "metadata": {},
          "execution_count": 44
        },
        {
          "output_type": "display_data",
          "data": {
            "text/plain": [
              "<Figure size 800x400 with 2 Axes>"
            ],
            "image/png": "[encoded data removed]"
          },
          "metadata": {}
        }
      ]
    },
    {
      "cell_type": "code",
      "source": [
        "from google.colab import files\n",
        "\n",
        "torch.save(model.state_dict(), \"colorization_weights.pth\")\n",
        "torch.save(model, \"colorization_model.pth\")\n",
        "torch.save(optimizer.state_dict(), 'optimizer_weights.pth')\n",
        "\n",
        "files.download(\"colorization_weights.pth\")\n",
        "files.download(\"colorization_model.pth\")\n",
        "files.download(\"optimizer_weights.pth\")"
      ],
      "metadata": {
        "colab": {
          "base_uri": "https://localhost:8080/",
          "height": 17
        },
        "id": "SRrWFPoebhNe",
        "outputId": "faac6d04-d70f-48d2-a936-777733611ee6"
      },
      "execution_count": 45,
      "outputs": [
        {
          "output_type": "display_data",
          "data": {
            "text/plain": [
              "<IPython.core.display.Javascript object>"
            ],
            "application/javascript": [
              "\n",
              "    async function download(id, filename, size) {\n",
              "      if (!google.colab.kernel.accessAllowed) {\n",
              "        return;\n",
              "      }\n",
              "      const div = document.createElement('div');\n",
              "      const label = document.createElement('label');\n",
              "      label.textContent = `Downloading \"${filename}\": `;\n",
              "      div.appendChild(label);\n",
              "      const progress = document.createElement('progress');\n",
              "      progress.max = size;\n",
              "      div.appendChild(progress);\n",
              "      document.body.appendChild(div);\n",
              "\n",
              "      const buffers = [];\n",
              "      let downloaded = 0;\n",
              "\n",
              "      const channel = await google.colab.kernel.comms.open(id);\n",
              "      // Send a message to notify the kernel that we're ready.\n",
              "      channel.send({})\n",
              "\n",
              "      for await (const message of channel.messages) {\n",
              "        // Send a message to notify the kernel that we're ready.\n",
              "        channel.send({})\n",
              "        if (message.buffers) {\n",
              "          for (const buffer of message.buffers) {\n",
              "            buffers.push(buffer);\n",
              "            downloaded += buffer.byteLength;\n",
              "            progress.value = downloaded;\n",
              "          }\n",
              "        }\n",
              "      }\n",
              "      const blob = new Blob(buffers, {type: 'application/binary'});\n",
              "      const a = document.createElement('a');\n",
              "      a.href = window.URL.createObjectURL(blob);\n",
              "      a.download = filename;\n",
              "      div.appendChild(a);\n",
              "      a.click();\n",
              "      div.remove();\n",
              "    }\n",
              "  "
            ]
          },
          "metadata": {}
        },
        {
          "output_type": "display_data",
          "data": {
            "text/plain": [
              "<IPython.core.display.Javascript object>"
            ],
            "application/javascript": [
              "download(\"download_9d4581b1-48c8-4aa4-a79d-6b9a26ff0b62\", \"colorization_weights.pth\", 2144322)"
            ]
          },
          "metadata": {}
        },
        {
          "output_type": "display_data",
          "data": {
            "text/plain": [
              "<IPython.core.display.Javascript object>"
            ],
            "application/javascript": [
              "\n",
              "    async function download(id, filename, size) {\n",
              "      if (!google.colab.kernel.accessAllowed) {\n",
              "        return;\n",
              "      }\n",
              "      const div = document.createElement('div');\n",
              "      const label = document.createElement('label');\n",
              "      label.textContent = `Downloading \"${filename}\": `;\n",
              "      div.appendChild(label);\n",
              "      const progress = document.createElement('progress');\n",
              "      progress.max = size;\n",
              "      div.appendChild(progress);\n",
              "      document.body.appendChild(div);\n",
              "\n",
              "      const buffers = [];\n",
              "      let downloaded = 0;\n",
              "\n",
              "      const channel = await google.colab.kernel.comms.open(id);\n",
              "      // Send a message to notify the kernel that we're ready.\n",
              "      channel.send({})\n",
              "\n",
              "      for await (const message of channel.messages) {\n",
              "        // Send a message to notify the kernel that we're ready.\n",
              "        channel.send({})\n",
              "        if (message.buffers) {\n",
              "          for (const buffer of message.buffers) {\n",
              "            buffers.push(buffer);\n",
              "            downloaded += buffer.byteLength;\n",
              "            progress.value = downloaded;\n",
              "          }\n",
              "        }\n",
              "      }\n",
              "      const blob = new Blob(buffers, {type: 'application/binary'});\n",
              "      const a = document.createElement('a');\n",
              "      a.href = window.URL.createObjectURL(blob);\n",
              "      a.download = filename;\n",
              "      div.appendChild(a);\n",
              "      a.click();\n",
              "      div.remove();\n",
              "    }\n",
              "  "
            ]
          },
          "metadata": {}
        },
        {
          "output_type": "display_data",
          "data": {
            "text/plain": [
              "<IPython.core.display.Javascript object>"
            ],
            "application/javascript": [
              "download(\"download_818291a2-aebd-4534-b354-fdd8a671d933\", \"colorization_model.pth\", 2148642)"
            ]
          },
          "metadata": {}
        },
        {
          "output_type": "display_data",
          "data": {
            "text/plain": [
              "<IPython.core.display.Javascript object>"
            ],
            "application/javascript": [
              "\n",
              "    async function download(id, filename, size) {\n",
              "      if (!google.colab.kernel.accessAllowed) {\n",
              "        return;\n",
              "      }\n",
              "      const div = document.createElement('div');\n",
              "      const label = document.createElement('label');\n",
              "      label.textContent = `Downloading \"${filename}\": `;\n",
              "      div.appendChild(label);\n",
              "      const progress = document.createElement('progress');\n",
              "      progress.max = size;\n",
              "      div.appendChild(progress);\n",
              "      document.body.appendChild(div);\n",
              "\n",
              "      const buffers = [];\n",
              "      let downloaded = 0;\n",
              "\n",
              "      const channel = await google.colab.kernel.comms.open(id);\n",
              "      // Send a message to notify the kernel that we're ready.\n",
              "      channel.send({})\n",
              "\n",
              "      for await (const message of channel.messages) {\n",
              "        // Send a message to notify the kernel that we're ready.\n",
              "        channel.send({})\n",
              "        if (message.buffers) {\n",
              "          for (const buffer of message.buffers) {\n",
              "            buffers.push(buffer);\n",
              "            downloaded += buffer.byteLength;\n",
              "            progress.value = downloaded;\n",
              "          }\n",
              "        }\n",
              "      }\n",
              "      const blob = new Blob(buffers, {type: 'application/binary'});\n",
              "      const a = document.createElement('a');\n",
              "      a.href = window.URL.createObjectURL(blob);\n",
              "      a.download = filename;\n",
              "      div.appendChild(a);\n",
              "      a.click();\n",
              "      div.remove();\n",
              "    }\n",
              "  "
            ]
          },
          "metadata": {}
        },
        {
          "output_type": "display_data",
          "data": {
            "text/plain": [
              "<IPython.core.display.Javascript object>"
            ],
            "application/javascript": [
              "download(\"download_f79cf9db-6789-4d49-8c9d-87666e8b459d\", \"optimizer_weights.pth\", 4289658)"
            ]
          },
          "metadata": {}
        }
      ]
    },
    {
      "cell_type": "code",
      "source": [
        "\n"
      ],
      "metadata": {
        "id": "2aOt9cl8bhQc"
      },
      "execution_count": 40,
      "outputs": []
    },
    {
      "cell_type": "code",
      "source": [
        "import torch\n",
        "import requests\n",
        "from PIL import Image\n",
        "import numpy as np\n",
        "from torchvision import transforms\n",
        "from skimage import color\n",
        "import matplotlib.pyplot as plt\n",
        "\n",
        "# Загрузка изображения с интернета\n",
        "image_url = \"https://www.1zoom.me/big2/819/321881-svetik.jpg\"  # Замените на актуальную ссылку\n",
        "response = requests.get(image_url, stream=True)\n",
        "img = Image.open(response.raw)\n",
        "\n",
        "# Предобработка изображения\n",
        "transform = transforms.Compose([\n",
        "    transforms.Resize((32, 32)),  # Размер, соответствующий входу модели\n",
        "    transforms.ToTensor(),  # Перевод в тензор\n",
        "])\n",
        "\n",
        "img_tensor = transform(img).unsqueeze(0)  # Добавляем дополнительную ось для батча (1, C, H, W)\n",
        "\n",
        "# Преобразуем в цветовое пространство Lab\n",
        "img_rgb = img_tensor.squeeze().numpy().transpose(1, 2, 0)  # Преобразуем обратно в numpy array\n",
        "img_lab = color.rgb2lab(img_rgb)  # Преобразуем в Lab\n",
        "\n",
        "L = img_lab[:, :, 0] / 100.0  # Канал L (светлота)\n",
        "ab = img_lab[:, :, 1:] / 128.0  # Каналы a и b\n",
        "\n",
        "# Перемещаем данные на нужное устройство\n",
        "device = torch.device(\"cuda\" if torch.cuda.is_available() else \"cpu\")\n",
        "\n",
        "# Преобразуем данные в тензоры\n",
        "L_tensor = torch.tensor(L, dtype=torch.float32).unsqueeze(0).unsqueeze(0).to(device)  # (1, 1, H, W)\n",
        "ab_tensor = torch.tensor(ab, dtype=torch.float32).unsqueeze(0).permute(0, 3, 1, 2).to(device)  # (1, 2, H, W)\n",
        "\n",
        "# Перемещаем модель на тот же девайс\n",
        "model.to(device)\n",
        "model.eval()  # Переводим модель в режим оценки\n",
        "\n",
        "# Прогоняем изображение через модель\n",
        "with torch.no_grad():  # Отключаем вычисление градиентов\n",
        "    output = model(L_tensor)  # Получаем предсказание модели\n",
        "\n",
        "# Визуализация\n",
        "output = output.squeeze().permute(1, 2, 0).cpu().numpy()  # Переводим результат в numpy для визуализации\n",
        "\n",
        "# Собираем Lab и конвертируем в RGB\n",
        "ab_pred = output * 128.0  # Каналы a, b в диапазоне [-128, 128]\n",
        "L_pred = L * 100.0  # Канал L в диапазоне [0, 100]\n",
        "\n",
        "lab_pred = np.concatenate([L_pred[..., np.newaxis], ab_pred], axis=-1)\n",
        "rgb_pred = color.lab2rgb(lab_pred)\n",
        "\n",
        "# Визуализируем\n",
        "plt.figure(figsize=(12, 6))\n",
        "\n",
        "# Оригинал\n",
        "plt.subplot(1, 2, 1)\n",
        "plt.imshow(img_rgb)\n",
        "plt.title(\"Оригинальное изображение\")\n",
        "\n",
        "# Результат модели\n",
        "plt.subplot(1, 2, 2)\n",
        "plt.imshow(rgb_pred)\n",
        "plt.title(\"Предсказание модели\")\n",
        "\n",
        "plt.show()\n"
      ],
      "metadata": {
        "colab": {
          "base_uri": "https://localhost:8080/",
          "height": 340
        },
        "id": "zIyDNDqJbhT-",
        "outputId": "cc5aec92-4b9b-4f09-87df-ba9c242c7d9a"
      },
      "execution_count": 48,
      "outputs": [
        {
          "output_type": "display_data",
          "data": {
            "text/plain": [
              "<Figure size 1200x600 with 2 Axes>"
            ],
            "image/png": "[encoded data removed]"
          },
          "metadata": {}
        }
      ]
    }
  ]
}