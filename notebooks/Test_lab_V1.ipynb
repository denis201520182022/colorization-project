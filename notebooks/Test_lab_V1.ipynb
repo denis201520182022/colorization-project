{
 "cells": [
  {
   "cell_type": "code",
   "execution_count": null,
   "metadata": {},
   "outputs": [],
   "source": []
  },
  {
   "cell_type": "code",
   "execution_count": null,
   "metadata": {},
   "outputs": [],
   "source": [
    "# Тестируем модель на тестовом наборе данных\n",
    "total_loss = 0\n",
    "total_psnr = 0\n",
    "total_samples = 0\n",
    "\n",
    "with torch.no_grad():  # Отключаем градиенты для ускорения\n",
    "    for L, ab in test_loader:\n",
    "        L, ab = L.to(device), ab.to(device)\n",
    "\n",
    "        # Прогоняем через модель\n",
    "        ab_pred = model(L)\n",
    "\n",
    "        # Считаем ошибку\n",
    "        loss = criterion(ab_pred, ab)\n",
    "        total_loss += loss.item() * L.size(0)  # Умножаем на размер батча\n",
    "        total_samples += L.size(0)\n",
    "\n",
    "        # Рассчитываем PSNR\n",
    "        psnr_value = psnr(ab_pred, ab)\n",
    "        total_psnr += psnr_value.item()\n",
    "\n",
    "# Средние значения метрик\n",
    "avg_test_loss = total_loss / total_samples\n",
    "avg_psnr = total_psnr / total_samples\n",
    "\n",
    "# Печатаем результаты\n",
    "print(f\"Средняя ошибка на тестовом наборе (MSE): {avg_test_loss:.4f}\")\n",
    "print(f\"Средний PSNR: {avg_psnr:.4f} dB\")\n"
   ]
  },
  {
   "cell_type": "code",
   "execution_count": null,
   "metadata": {},
   "outputs": [],
   "source": [
    "model.eval()\n",
    "\n",
    "L, ab = test_dataset[0]\n",
    "\n",
    "L_input = L.unsqueeze(0).to(device)\n",
    "\n",
    "with torch.no_grad():\n",
    "  ab_pred = model(L_input)\n",
    "\n",
    "ab_pred = ab_pred.squeeze(0).cpu()\n",
    "L_np = L.squeeze().numpy()*100\n",
    "ab_np = ab_pred.numpy().transpose(1,2,0)*128\n",
    "\n",
    "lab_pred = np.concatenate([L_np[..., np.newaxis], ab_np], axis=2)  # (32, 32, 3)\n",
    "rgb_pred = color.lab2rgb(lab_pred)\n",
    "\n",
    "original_rgb = test_dataset.data.data[0]  # uint8 RGB\n",
    "original_rgb = original_rgb  # нормализуем [0, 1]\n",
    "\n",
    "# Визуализация\n",
    "fig, axs = plt.subplots(1, 2, figsize=(8, 4))\n",
    "\n",
    "axs[0].imshow(original_rgb)\n",
    "axs[0].set_title(\"Оригинал\")\n",
    "axs[0].axis(\"off\")\n",
    "\n",
    "axs[1].imshow(rgb_pred)\n",
    "axs[1].set_title(\"Предсказание\")\n",
    "axs[1].axis(\"off\")"
   ]
  },
  {
   "cell_type": "code",
   "execution_count": null,
   "metadata": {},
   "outputs": [],
   "source": []
  }
 ],
 "metadata": {
  "language_info": {
   "name": "python"
  }
 },
 "nbformat": 4,
 "nbformat_minor": 2
}
