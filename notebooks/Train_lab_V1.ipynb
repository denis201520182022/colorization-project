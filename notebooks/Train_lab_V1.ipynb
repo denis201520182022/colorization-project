{
  "cells": [
    {
      "cell_type": "code",
      "execution_count": 8,
      "metadata": {
        "id": "l1dHbCzqMvX0"
      },
      "outputs": [],
      "source": [
        "import torch\n",
        "import torchvision\n",
        "import torchvision.transforms as transforms\n",
        "import numpy as np\n",
        "import matplotlib.pyplot as plt\n",
        "from skimage import color\n",
        "from torchvision.datasets import CIFAR10\n",
        "from torch.utils.data import Dataset, DataLoader\n",
        "import matplotlib.pyplot as plt\n",
        "import torch.nn as nn\n",
        "import torch.nn.functional as F\n",
        "from tqdm import tqdm\n",
        "#from google.colab import files\n"
      ]
    },
    {
      "cell_type": "code",
      "execution_count": 2,
      "metadata": {
        "id": "dO7F2BmTQlq5"
      },
      "outputs": [],
      "source": [
        "\n",
        "\n",
        "class CIFAR10_Lab(Dataset):\n",
        "  def __init__(self, train=True):\n",
        "    self.data = CIFAR10(root='./data', train=train, download=True)\n",
        "    self.images = self.data.data\n",
        "\n",
        "  def __len__(self):\n",
        "    return len(self.images)\n",
        "\n",
        "  def __getitem__(self, idx):\n",
        "    img_rgb = self.images[idx]/255.0\n",
        "    img_lab = color.rgb2lab(img_rgb)\n",
        "\n",
        "    L = img_lab[:,:, 0] / 100.0\n",
        "    ab = img_lab[:,:, 1:] / 128.0\n",
        "\n",
        "    L_tenzor = torch.tensor(L, dtype=torch.float32).unsqueeze(0)\n",
        "    ab_tenzor = torch.tensor(ab, dtype=torch.float32).permute(2,0,1)\n",
        "\n",
        "    return L_tenzor, ab_tenzor"
      ]
    },
    {
      "cell_type": "code",
      "execution_count": 4,
      "metadata": {
        "colab": {
          "base_uri": "https://localhost:8080/"
        },
        "id": "1MmvYerUQltI",
        "outputId": "f1f777e3-b52a-40bb-da27-a99486f25f45"
      },
      "outputs": [
        {
          "name": "stdout",
          "output_type": "stream",
          "text": [
            "Files already downloaded and verified\n",
            "Files already downloaded and verified\n"
          ]
        }
      ],
      "source": [
        "train_dataset = CIFAR10_Lab(train=True)\n",
        "test_dataset = CIFAR10_Lab(train=False)\n",
        "\n",
        "train_loader =DataLoader(train_dataset, batch_size=32, shuffle=True, num_workers=2)\n",
        "test_loader = DataLoader(test_dataset, batch_size=32)"
      ]
    },
    {
      "cell_type": "code",
      "execution_count": 5,
      "metadata": {
        "id": "3tWTqD14bg_y"
      },
      "outputs": [],
      "source": [
        "\n",
        "\n",
        "class ColorizationCNN(nn.Module):\n",
        "    def __init__(self):\n",
        "        super(ColorizationCNN, self).__init__()\n",
        "\n",
        "        # Encoder: уменьшает размер, но увеличивает глубину (кол-во каналов)\n",
        "        self.encoder = nn.Sequential(\n",
        "            nn.Conv2d(1, 64, kernel_size=3, padding=1),  # (1, 32, 32) -> (64, 32, 32)\n",
        "            nn.ReLU(),\n",
        "            nn.Conv2d(64, 128, kernel_size=3, padding=1),  # (128, 32, 32)\n",
        "            nn.ReLU(),\n",
        "            nn.MaxPool2d(2, 2),  # (128, 16, 16)\n",
        "            nn.Conv2d(128, 256, kernel_size=3, padding=1),\n",
        "            nn.ReLU(),\n",
        "            nn.MaxPool2d(2, 2)   # (256, 8, 8)\n",
        "        )\n",
        "\n",
        "        # Decoder: восстанавливает размер до исходного (32x32), но с 2 каналами\n",
        "        self.decoder = nn.Sequential(\n",
        "            nn.ConvTranspose2d(256, 128, kernel_size=2, stride=2),  # (128, 16, 16)\n",
        "            nn.ReLU(),\n",
        "            nn.ConvTranspose2d(128, 64, kernel_size=2, stride=2),   # (64, 32, 32)\n",
        "            nn.ReLU(),\n",
        "            nn.Conv2d(64, 2, kernel_size=3, padding=1),             # (2, 32, 32)\n",
        "            nn.Tanh()  # чтобы выход был от -1 до 1, как и ab каналы\n",
        "        )\n",
        "\n",
        "    def forward(self, x):\n",
        "        x = self.encoder(x)\n",
        "        x = self.decoder(x)\n",
        "        return x\n"
      ]
    },
    {
      "cell_type": "code",
      "execution_count": 6,
      "metadata": {
        "id": "ryY6qebbbhCd"
      },
      "outputs": [
        {
          "name": "stdout",
          "output_type": "stream",
          "text": [
            "cpu\n"
          ]
        }
      ],
      "source": [
        "device = torch.device(\"cuda\" if torch.cuda.is_available() else \"cpu\")\n",
        "print(device)\n",
        "\n",
        "model = ColorizationCNN().to(device)\n",
        "#model.load_state_dict(torch.load('colorization_weights.pth'))\n",
        "\n",
        "optimizer = torch.optim.Adam(model.parameters(), lr=1e-3)\n",
        "#optimizer.load_state_dict(torch.load('optimizer_weights.pth'))\n",
        "\n",
        "criterion = nn.MSELoss()"
      ]
    },
    {
      "cell_type": "code",
      "execution_count": null,
      "metadata": {
        "colab": {
          "base_uri": "https://localhost:8080/"
        },
        "id": "WpVnTcNKbhFK",
        "outputId": "c6198488-ebd0-4249-cb3f-43956e188d40"
      },
      "outputs": [
        {
          "name": "stderr",
          "output_type": "stream",
          "text": [
            "Epoch [1/20]:   0%|          | 0/1563 [00:00<?, ?it/s]"
          ]
        }
      ],
      "source": [
        "num_epochs = 20\n",
        "for epoch in range(num_epochs):\n",
        "  model.train()\n",
        "  running_loss = 0.0\n",
        "  loop = tqdm(train_loader, desc=f\"Epoch [{epoch+1}/{num_epochs}]\", leave=False)\n",
        "  for L, ab in loop:\n",
        "    \n",
        "    L, ab = L.to(device), ab.to(device)\n",
        "    optimizer.zero_grad() \n",
        "    output = model(L)\n",
        "    loss = criterion(output, ab)\n",
        "\n",
        "    \n",
        "    loss.backward()\n",
        "    optimizer.step()\n",
        "\n",
        "    running_loss += loss.item()\n",
        "    loop.set_postfix(loss=loss.item())\n",
        "  avg_loss = running_loss / len(train_loader)\n",
        "  print(f\"Эпоха {epoch+1}/{num_epochs}, Потеря: {avg_loss:.4f}\")\n"
      ]
    },
    {
      "cell_type": "code",
      "execution_count": null,
      "metadata": {
        "id": "yN6gb_nRbhH7"
      },
      "outputs": [],
      "source": [
        "torch.save(model.state_dict(), \"saved_models/colorization_weights_lab_V1.pth\")\n",
        "\n",
        "torch.save(optimizer.state_dict(), 'saved_models/optimizer_weights_lab_V1.pth')\n",
        "\n",
        "#files.download(\"colorization_weights_lab_V1.pth\")\n",
        "#files.download(\"optimizer_weights_lab_V1.pth\")"
      ]
    },
    {
      "cell_type": "code",
      "execution_count": null,
      "metadata": {
        "id": "zIyDNDqJbhT-"
      },
      "outputs": [],
      "source": [
        "model.eval()\n",
        "test_loss = 0.0\n",
        "\n",
        "with torch.no_grad():\n",
        "    for L, ab in tqdm(test_loader, desc=\"Testing\"):\n",
        "        L, ab = L.to(device), ab.to(device)\n",
        "\n",
        "        output = model(L)\n",
        "        loss = criterion(output, ab)\n",
        "        test_loss += loss.item()\n",
        "\n",
        "print(f\"Test Loss: {test_loss / len(test_loader):.6f}\")\n"
      ]
    }
  ],
  "metadata": {
    "accelerator": "GPU",
    "colab": {
      "gpuType": "T4",
      "provenance": []
    },
    "kernelspec": {
      "display_name": "Python 3",
      "name": "python3"
    },
    "language_info": {
      "codemirror_mode": {
        "name": "ipython",
        "version": 3
      },
      "file_extension": ".py",
      "mimetype": "text/x-python",
      "name": "python",
      "nbconvert_exporter": "python",
      "pygments_lexer": "ipython3",
      "version": "3.12.1"
    }
  },
  "nbformat": 4,
  "nbformat_minor": 0
}
